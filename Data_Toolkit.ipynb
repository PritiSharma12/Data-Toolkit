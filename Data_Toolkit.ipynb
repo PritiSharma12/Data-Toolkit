{
  "nbformat": 4,
  "nbformat_minor": 0,
  "metadata": {
    "colab": {
      "provenance": []
    },
    "kernelspec": {
      "name": "python3",
      "display_name": "Python 3"
    },
    "language_info": {
      "name": "python"
    }
  },
  "cells": [
    {
      "cell_type": "markdown",
      "source": [
        "# Data Toolkit"
      ],
      "metadata": {
        "id": "ndCeZN9aQQon"
      }
    },
    {
      "cell_type": "markdown",
      "source": [
        "1. What is NumPy, and why is it widely used in Python?\n",
        "\n",
        "   - NumPy (Numerical Python) is a powerful Python library used for numerical computing. It provides support for large, multi-dimensional arrays and matrices, along with a collection of mathematical functions to operate on these data structures efficiently.\n",
        "\n",
        "     Why is NumPy Widely Used in Python?\n",
        "\n",
        "     Efficient Array Computation: NumPy's arrays (ndarray) are more   memory-efficient and faster than Python lists for numerical operations.\n",
        "\n",
        "     Vectorization: NumPy eliminates the need for explicit loops in many cases by applying operations to entire arrays at once, improving performance.\n",
        "\n",
        "     Broadcasting: It allows operations on arrays of different shapes without the need for explicit reshaping.\n",
        "\n",
        "     Rich Mathematical Functions: Includes linear algebra, Fourier transforms, statistics, and random number generation.\n",
        "\n",
        "     Integration with Other Libraries: Many libraries (e.g., Pandas, SciPy, TensorFlow, and OpenCV) use NumPy as a foundation.\n",
        "\n",
        "     Ease of Use: NumPy provides a simpler syntax for numerical computations compared to low-level languages like C or Fortran.\n",
        "\n",
        "     Interoperability: It can integrate with C, C++, and Fortran for performance-critical applications.\n",
        "\n",
        "2.    How does broadcasting work in NumPy?\n",
        "\n",
        "     - Broadcasting in NumPy allows operations on arrays of different shapes without explicitly reshaping or copying data. This makes element-wise operations more efficient and memory-friendly.\n",
        "\n",
        "     Broadcasting Rules\n",
        "\n",
        "When performing operations on arrays of different shapes, NumPy applies the following rules:\n",
        "\n",
        "     I Align shapes from the right (smaller array is padded with ones on the\n",
        "       left).\n",
        "\n",
        "     II Dimensions must match or be 1 (a dimension of 1 is stretched to match\n",
        "        the larger dimension).\n",
        "         \n",
        "     III If shapes are incompatible, an error occurs.\n",
        "\n",
        "3. What is a Pandas DataFrame?\n",
        "\n",
        "   - A Pandas DataFrame is a two-dimensional, tabular data structure in Python, similar to an Excel spreadsheet or SQL table. It consists of rows and columns and is one of the core data structures in the Pandas library, used for data analysis and manipulation.\n",
        "\n",
        "4. Explain the use of the groupby() method in Pandas.\n",
        "\n",
        "   - Understanding the groupby() Method in Pandas\n",
        "\n",
        "     The groupby() method in Pandas is used to group data based on one or more columns and then perform aggregate operations on those groups. It is widely used for data analysis and summarization.\n",
        "\n",
        "     How groupby() Works\n",
        "\n",
        "     Splitting – Divides data into groups based on column values.\n",
        "\n",
        "     Applying – Performs an operation (e.g., sum, mean, count) on each group.\n",
        "\n",
        "     Combining – Merges the results into a DataFrame.\n",
        "\n",
        "     Example Dataset"
      ],
      "metadata": {
        "id": "2MsFQf1gQWaX"
      }
    },
    {
      "cell_type": "code",
      "source": [
        "import pandas as pd\n",
        "\n",
        "data = {\n",
        "    'Department': ['HR', 'HR', 'IT', 'IT', 'Finance', 'Finance', 'IT'],\n",
        "    'Employee': ['Alice', 'Bob', 'Charlie', 'David', 'Eve', 'Frank', 'Grace'],\n",
        "    'Salary': [50000, 55000, 60000, 62000, 70000, 72000, 58000]\n",
        "}\n",
        "\n",
        "df = pd.DataFrame(data)\n",
        "print(df)\n"
      ],
      "metadata": {
        "colab": {
          "base_uri": "https://localhost:8080/"
        },
        "id": "uhIbcFlPUWB_",
        "outputId": "db3130d8-99aa-4b1c-943f-3dd89f9dca53"
      },
      "execution_count": 12,
      "outputs": [
        {
          "output_type": "stream",
          "name": "stdout",
          "text": [
            "  Department Employee  Salary\n",
            "0         HR    Alice   50000\n",
            "1         HR      Bob   55000\n",
            "2         IT  Charlie   60000\n",
            "3         IT    David   62000\n",
            "4    Finance      Eve   70000\n",
            "5    Finance    Frank   72000\n",
            "6         IT    Grace   58000\n"
          ]
        }
      ]
    },
    {
      "cell_type": "markdown",
      "source": [
        "1. Grouping and Aggregating Data\n",
        "\n",
        "Calculate the Average Salary by Department"
      ],
      "metadata": {
        "id": "XVr0btq4Ul3g"
      }
    },
    {
      "cell_type": "code",
      "source": [
        "df_grouped = df.groupby('Department')['Salary'].mean()\n",
        "print(df_grouped)\n"
      ],
      "metadata": {
        "colab": {
          "base_uri": "https://localhost:8080/"
        },
        "id": "y9uV5QQHUpuH",
        "outputId": "bafefe06-0a5c-42c9-822d-0fcb55f05e6b"
      },
      "execution_count": 2,
      "outputs": [
        {
          "output_type": "stream",
          "name": "stdout",
          "text": [
            "Department\n",
            "Finance    71000.0\n",
            "HR         52500.0\n",
            "IT         60000.0\n",
            "Name: Salary, dtype: float64\n"
          ]
        }
      ]
    },
    {
      "cell_type": "markdown",
      "source": [
        "🔹 Here, groupby('Department') groups employees by department, and .mean() calculates the average salary for each department.\n",
        "\n",
        "2. Grouping with Multiple Columns"
      ],
      "metadata": {
        "id": "rveWCUeaUsMW"
      }
    },
    {
      "cell_type": "code",
      "source": [
        "df_grouped = df.groupby(['Department', 'Employee'])['Salary'].sum()\n",
        "print(df_grouped)\n"
      ],
      "metadata": {
        "colab": {
          "base_uri": "https://localhost:8080/"
        },
        "id": "otmjZpApaHyQ",
        "outputId": "9f39d4ba-5f89-498d-89a3-d359db64a632"
      },
      "execution_count": 14,
      "outputs": [
        {
          "output_type": "stream",
          "name": "stdout",
          "text": [
            "Department  Employee\n",
            "Finance     Eve         70000\n",
            "            Frank       72000\n",
            "HR          Alice       50000\n",
            "            Bob         55000\n",
            "IT          Charlie     60000\n",
            "            David       62000\n",
            "            Grace       58000\n",
            "Name: Salary, dtype: int64\n"
          ]
        }
      ]
    },
    {
      "cell_type": "markdown",
      "source": [
        "🔹 Groups by both Department and Employee, then sums salaries.\n",
        "\n",
        "3. Using Multiple Aggregation Functions"
      ],
      "metadata": {
        "id": "h67cwYNBX_8p"
      }
    },
    {
      "cell_type": "code",
      "source": [
        "df_grouped = df.groupby('Department')['Salary'].agg(['mean', 'max', 'min'])\n",
        "print(df_grouped)\n"
      ],
      "metadata": {
        "colab": {
          "base_uri": "https://localhost:8080/"
        },
        "id": "W3QzpRtAaJK_",
        "outputId": "6d61fab1-532e-41e2-a1e0-63e624eceace"
      },
      "execution_count": 15,
      "outputs": [
        {
          "output_type": "stream",
          "name": "stdout",
          "text": [
            "               mean    max    min\n",
            "Department                       \n",
            "Finance     71000.0  72000  70000\n",
            "HR          52500.0  55000  50000\n",
            "IT          60000.0  62000  58000\n"
          ]
        }
      ]
    },
    {
      "cell_type": "markdown",
      "source": [
        "🔹 Uses .agg(['mean', 'max', 'min']) to calculate multiple statistics at once.\n",
        "\n",
        "4. Counting Number of Employees per Department"
      ],
      "metadata": {
        "id": "PdQeEV6HaaoA"
      }
    },
    {
      "cell_type": "code",
      "source": [
        "df_grouped = df.groupby('Department')['Employee'].count()\n",
        "print(df_grouped)\n"
      ],
      "metadata": {
        "colab": {
          "base_uri": "https://localhost:8080/"
        },
        "id": "M2ILEgH-aDHA",
        "outputId": "ef043c79-8741-4be2-e9ea-cdb6b7adde13"
      },
      "execution_count": 13,
      "outputs": [
        {
          "output_type": "stream",
          "name": "stdout",
          "text": [
            "Department\n",
            "Finance    2\n",
            "HR         2\n",
            "IT         3\n",
            "Name: Employee, dtype: int64\n"
          ]
        }
      ]
    },
    {
      "cell_type": "markdown",
      "source": [
        "🔹 .count() counts the number of employees in each department.\n",
        "\n",
        "5. Filtering Groups"
      ],
      "metadata": {
        "id": "03cGLBLdaeYo"
      }
    },
    {
      "cell_type": "code",
      "source": [
        "df_grouped = df.groupby('Department').filter(lambda x: x['Salary'].mean() > 60000)\n",
        "print(df_grouped)\n"
      ],
      "metadata": {
        "colab": {
          "base_uri": "https://localhost:8080/"
        },
        "id": "bt-qHQrVasq3",
        "outputId": "707f82d8-9afc-47fa-cab2-f67a9a8c8090"
      },
      "execution_count": 16,
      "outputs": [
        {
          "output_type": "stream",
          "name": "stdout",
          "text": [
            "  Department Employee  Salary\n",
            "4    Finance      Eve   70000\n",
            "5    Finance    Frank   72000\n"
          ]
        }
      ]
    },
    {
      "cell_type": "markdown",
      "source": [
        "🔹 Only keeps groups where the average salary is greater than 60,000.\n",
        "\n",
        "5. Why is Seaborn preferred for statistical visualizations?\n",
        "\n",
        "   - Seaborn is a powerful Python visualization library built on top of Matplotlib. It is preferred for statistical visualizations because it provides high-level, attractive, and informative graphs with minimal code.\n",
        "\n",
        "✔ Easier & faster than Matplotlib for statistical plots.\n",
        "\n",
        "✔ Prettier & more readable with built-in themes.\n",
        "\n",
        "✔ Handles complex visualizations with minimal code.\n",
        "\n",
        "✔ Great for EDA (exploratory data analysis).\n",
        "\n",
        "6. What are the differences between NumPy arrays and Python lists?\n",
        "\n",
        "   - Python List:\n",
        "\n",
        "Able to store different data types in the same list\n",
        "\n",
        "Storing each item in random location in the memory\n",
        "\n",
        "Good for the scenario where list can grow dynamically\n",
        "\n",
        "Inbuilt data type.\n",
        "\n",
        "It has more inbuilt functions\n",
        "\n",
        "Appending will take less time in O(1) time\n",
        "\n",
        "NumPy Array:\n",
        "\n",
        "Can store only one data type in an array at any time\n",
        "\n",
        "Storing each item is sequential which makes array more effective in processing.\n",
        "\n",
        "Good for the scenario where the items are fixed size and same data time\n",
        "\n",
        "Need to install external library NumPy\n",
        "\n",
        "No extra functions, so it will not more memory store.\n",
        "\n",
        "Appending elements will take more time in O(N) time\n",
        "\n",
        "7. What is a heatmap, and when should it be used?\n",
        "\n",
        "  - A heatmap is a graphical representation of data where individual values are represented by colors. It is commonly used for visualizing relationships, correlations, and patterns in large datasets.\n",
        "\n",
        "🔹 Darker or more intense colors usually indicate higher values, while lighter or less intense colors indicate lower values.\n",
        "\n",
        "When Should a Heatmap Be Used?\n",
        "Heatmaps are useful when:\n",
        "\n",
        "✅ Showing Correlations Between Variables\n",
        "\n",
        "In data science and machine learning, heatmaps help visualize the correlation matrix between numerical variables.\n",
        "\n",
        "✅ Highlighting Patterns in Large Datasets\n",
        "\n",
        "Helps detect trends, clusters, or outliers in large datasets.\n",
        "\n",
        "✅ Visualizing Frequency or Density\n",
        "\n",
        "Used in website analytics (e.g., click heatmaps) to show where users interact most.\n",
        "\n",
        "Used in geographical maps to show population density, temperature distribution, etc.\n",
        "\n",
        "✅ Comparing Data Across Categories\n",
        "\n",
        "Often used in finance and business to show sales, stock trends, or performance metrics over time.\n",
        "\n",
        "8. What does the term “vectorized operation” mean in NumPy?\n",
        "\n",
        "   - A vectorized operation in NumPy refers to performing operations on entire arrays without using explicit loops. Instead of iterating over individual elements, NumPy applies operations to whole arrays at once, making computations faster and more efficient.\n",
        "\n",
        "🔹 Key Benefits of Vectorized Operations:\n",
        "\n",
        "✅ Faster Execution – Uses optimized C-based implementations.\n",
        "\n",
        "✅ Less Code – No need for explicit loops.\n",
        "\n",
        "✅ Memory Efficient – Uses contiguous memory blocks for better cache performance.\n",
        "\n",
        "9.  How does Matplotlib differ from Plotly?\n",
        "\n",
        "    - ✅ Use Matplotlib if:\n",
        "\n",
        "     You need static plots for research, reports, or scientific computing.\n",
        "\n",
        "     You require fine-grained customization for publication-quality figures.\n",
        "\n",
        "     You're working in offline environments (e.g., Jupyter Notebooks).\n",
        "\n",
        "✅ Use Plotly if:\n",
        "\n",
        "     You need interactive visualizations with zooming, hovering, and tooltips.\n",
        "\n",
        "     You're building dashboards or web apps (e.g., with Dash or Flask).\n",
        "\n",
        "     You want easier styling and visualization with less manual customization.\n",
        "\n",
        "10. What is the significance of hierarchical indexing in Pandas?     \n",
        "\n",
        "    - Hierarchical indexing (MultiIndex) in Pandas allows multiple levels of\n",
        "      indexing, making it easier to work with multi-dimensional data in a tabular format. It is particularly useful for handling grouped data, time-series data, and pivot tables.\n",
        "\n",
        "     Key Benefits of Hierarchical Indexing\n",
        "\n",
        "     ✅ Organizes Complex Data Efficiently – Enables handling of multi-level data like sales by region and year.\n",
        "\n",
        "     ✅ Facilitates Multi-Level Selection – Allows advanced slicing and filtering.\n",
        "\n",
        "     ✅ Supports Aggregations and Grouping – Essential for pivot tables and grouped data operations.\n",
        "    \n",
        "     ✅ Enhances DataFrame Flexibility – Makes reshaping and restructuring data easier.\n",
        "\n",
        "11. What is the role of Seaborn’s pairplot() function?\n",
        "\n",
        "    - Seaborn’s pairplot() function is used to visualize pairwise relationships between numerical variables in a dataset. It creates a grid of scatterplots for each pair of variables, making it useful for exploratory data analysis (EDA).\n",
        "\n",
        "Key Benefits of pairplot()\n",
        "\n",
        "✅ Visualizes relationships between multiple numerical variables.\n",
        "\n",
        "✅ Easily identifies correlations, clusters, and outliers.\n",
        "\n",
        "✅ Shows histograms on the diagonal for variable distributions.\n",
        "\n",
        "✅ Color-coding (hue parameter) helps differentiate categories.\n",
        "\n",
        "Basic Usage of pairplot()\n",
        "\n",
        "import seaborn as sns\n",
        "import matplotlib.pyplot as plt\n",
        "\n",
        "# Load example dataset\n",
        "df = sns.load_dataset(\"iris\")\n",
        "\n",
        "# Create pairplot\n",
        "sns.pairplot(df)\n",
        "plt.show()\n",
        "\n",
        "🔹 Each scatterplot shows how two variables relate.\n",
        "\n",
        "🔹 The diagonal plots show histograms of individual variables.\n",
        "\n",
        "Customizing pairplot()\n",
        "\n",
        "1. Using the hue Parameter (Color by Category)\n",
        "\n",
        "sns.pairplot(df, hue=\"species\")\n",
        "plt.show()\n",
        "\n",
        "🔹 Different colors for each species to show category-wise relationships.\n",
        "\n",
        "2. Changing the Plot Style (kind Parameter)\n",
        "\n",
        "sns.pairplot(df, kind=\"kde\")  # Kernel Density Estimation\n",
        "plt.show()\n",
        "🔹 Replaces scatterplots with density plots.\n",
        "\n",
        "3. Selecting Specific Variables (vars Parameter)\n",
        "\n",
        "sns.pairplot(df, vars=[\"sepal_length\", \"sepal_width\"], hue=\"species\")\n",
        "plt.show()\n",
        "\n",
        "🔹 Limits the number of variables for a cleaner visualization.\n",
        "\n",
        "When to Use pairplot()?\n",
        "\n",
        "✅ Exploratory Data Analysis (EDA) – Helps understand data distributions and relationships.\n",
        "\n",
        "✅ Feature Selection – Identifies correlated variables for machine learning.\n",
        "\n",
        "✅ Outlier Detection – Reveals unexpected patterns or anomalies.\n",
        "\n",
        "12. What is the purpose of the describe() function in Pandas?\n",
        "\n",
        "    - The describe() function in Pandas provides a summary of key statistical metrics for numerical (and optionally categorical) columns in a DataFrame. It is commonly used in Exploratory Data Analysis (EDA) to understand the distribution and spread of data.\n",
        "\n",
        "Key Metrics Provided by describe() (for numerical columns)\n",
        "\n",
        "Metric\t        Description\n",
        "\n",
        "count -\tNumber of non-null (non-missing) values\n",
        "\n",
        "mean -\tAverage (arithmetic mean) of the column\n",
        "\n",
        "std -\tStandard deviation (measure of spread)\n",
        "\n",
        "min\t- Minimum value in the column\n",
        "\n",
        "25%\t- First quartile (Q1, 25th percentile)\n",
        "\n",
        "50% -\tMedian (Q2, 50th percentile)\n",
        "\n",
        "75%\t- Third quartile (Q3, 75th percentile)\n",
        "\n",
        "max\t- Maximum value in the column\n",
        "\n",
        "13.  Why is handling missing data important in Pandas?\n",
        "\n",
        "    - Missing data can skew analysis, lead to incorrect conclusions, and affect machine learning models. Properly handling missing values ensures data integrity, accuracy, and reliability.\n",
        "\n",
        "Key Reasons for Handling Missing Data\n",
        "\n",
        "✅ Ensures Accurate Analysis – Missing values can distort statistical summaries (mean, median, etc.).\n",
        "\n",
        "✅ Prevents Errors in Calculations – Some operations (e.g., summation, multiplication) may fail or give incorrect results.\n",
        "\n",
        "✅ Improves Machine Learning Models – Models may not handle NaNs well, leading to biased predictions.\n",
        "\n",
        "✅ Maintains Data Integrity – Helps avoid inconsistencies in datasets.\n",
        "\n",
        "14. What are the benefits of using Plotly for data visualization?\n",
        "\n",
        "    - Plotly is a powerful and interactive data visualization library for Python, R, and JavaScript. It is widely used for dashboards, web applications, and exploratory data analysis due to its rich feature set.\n",
        "\n",
        "✅ 1. Interactive Visualizations\n",
        "\n",
        "Unlike static libraries (e.g., Matplotlib), Plotly supports zooming, hovering, and tooltips for deeper data exploration.\n",
        "\n",
        "✅ 2. Wide Range of Chart Types\n",
        "\n",
        "Plotly supports over 40+ chart types, including:\n",
        "\n",
        "📊 Basic charts: Line, bar, scatter, pie\n",
        "\n",
        "📈 Advanced charts: Heatmaps, 3D plots, radar, funnel\n",
        "\n",
        "🗺 Geospatial charts: Maps, choropleth, globe plots\n",
        "\n",
        "🔬 Scientific visualizations: Contour, surface plots\n",
        "\n",
        "✅ 3. Beautiful and Customizable Visuals\n",
        "\n",
        "Plotly has predefined themes and allows full customization with styles, annotations, and layouts.\n",
        "\n",
        "✅ 4. Seamless Pandas and NumPy Integration\n",
        "\n",
        "✅ 5. Supports Dashboards & Web Applications\n",
        "\n",
        "✅ 6. Works with Jupyter Notebooks & Web Apps\n",
        "\n",
        "Supports Jupyter Notebook & JupyterLab.\n",
        "\n",
        "Can be exported to HTML for web embedding.\n",
        "\n",
        "✅ 7. High Performance for Large Datasets\n",
        "\n",
        "Supports WebGL for fast rendering of large datasets.\n",
        "\n",
        "Handles millions of data points efficiently.\n",
        "\n",
        "15. How does NumPy handle multidimensional arrays?\n",
        "\n",
        "    - NumPy uses the ndarray (N-dimensional array) object to handle multidimensional arrays efficiently. These arrays allow operations on multiple dimensions (1D, 2D, 3D, or higher) while maintaining high performance and memory efficiency.\n",
        "\n",
        "Key Features of Multidimensional Arrays in NumPy\n",
        "\n",
        "✅ Supports Multiple Dimensions: Handles 1D (vectors), 2D (matrices), and nD (higher-dimensional) arrays.\n",
        "\n",
        "✅ Efficient Memory Management: Uses contiguous memory storage for fast computations.\n",
        "\n",
        "✅ Built-in Operations: Supports mathematical operations, reshaping, slicing, and broadcasting.\n",
        "\n",
        "✅ Fast Computation: Operates much faster than Python lists due to optimized C-based implementation.\n",
        "\n",
        "16. What is the role of Bokeh in data visualization?\n",
        "\n",
        "    - Bokeh is a Python library designed for interactive, web-ready visualizations. It enables users to create dynamic, high-performance charts and dashboards for data exploration and storytelling\n",
        "\n",
        "✅ Interactive Visualizations – Zooming, panning, tooltips, and hover effects.\n",
        "\n",
        "✅ Web-Ready – Generates HTML/JavaScript without extra dependencies.\n",
        "\n",
        "✅ High Performance – Handles large datasets efficiently.\n",
        "\n",
        "✅ Supports Streaming Data – Ideal for real-time dashboards.\n",
        "\n",
        "✅ Customizable – Fine-grained control over plots with JavaScript callbacks.\n",
        "\n",
        "✅ Works with Pandas, NumPy, and SQL – Easily integrates with data sources.\n",
        "\n",
        "17. Explain the difference between apply() and map() in Pandas.\n",
        "\n",
        "    - ✅ Use map() when:\n",
        "\n",
        "✔ You are working with a Series.\n",
        "\n",
        "✔ You need a simple element-wise transformation.\n",
        "\n",
        "✔ You are replacing values using a dictionary.\n",
        "\n",
        "✅ Use apply() when:\n",
        "\n",
        "✔ You are working with a DataFrame (columns or rows).\n",
        "\n",
        "✔ You need to apply complex operations (row-wise, column-wise).\n",
        "\n",
        "✔ You are working with multi-column calculations.\n",
        "\n",
        "18. What are some advanced features of NumPy?\n",
        "\n",
        "    - NumPy provides a variety of advanced features that make it a powerful library for numerical computing. These features enable efficient operations on large datasets, complex mathematical functions, and high-performance computing.\n",
        "\n",
        "1️⃣ Broadcasting: Efficient Operations on Different-Sized Arrays\n",
        "\n",
        "2️⃣ Vectorized Operations: Faster Computations\n",
        "\n",
        "3️⃣ Advanced Indexing: Boolean & Fancy Indexing\n",
        "\n",
        "4️⃣ Multi-dimensional Arrays & Manipulations\n",
        "\n",
        "5️⃣ Linear Algebra Operations\n",
        "\n",
        "6️⃣ Fast Fourier Transform (FFT)\n",
        "\n",
        "19. How does Pandas simplify time series analysis?\n",
        "\n",
        "    - Pandas provides powerful tools for working with time series data, making it easier to handle date-based indexing, resampling, rolling statistics, and time-based aggregations.\n",
        "\n",
        "🔹 1. Date and Time Handling with DatetimeIndex\n",
        "Pandas makes working with dates and times easy by using DatetimeIndex.\n",
        "\n",
        "🔸 Example: Creating a Time Series\n",
        "\n"
      ],
      "metadata": {
        "id": "DsmIIz3haxUP"
      }
    },
    {
      "cell_type": "code",
      "source": [
        "import pandas as pd\n",
        "\n",
        "# Create a time-based index\n",
        "dates = pd.date_range(start=\"2024-01-01\", periods=5, freq=\"D\")\n",
        "data = [100, 200, 150, 300, 250]\n",
        "\n",
        "df = pd.DataFrame({\"Sales\": data}, index=dates)\n",
        "print(df)\n"
      ],
      "metadata": {
        "colab": {
          "base_uri": "https://localhost:8080/"
        },
        "id": "Tnu7olw-vhlj",
        "outputId": "2165718a-4509-4f42-fbb7-8e3a0f41d468"
      },
      "execution_count": 17,
      "outputs": [
        {
          "output_type": "stream",
          "name": "stdout",
          "text": [
            "            Sales\n",
            "2024-01-01    100\n",
            "2024-01-02    200\n",
            "2024-01-03    150\n",
            "2024-01-04    300\n",
            "2024-01-05    250\n"
          ]
        }
      ]
    },
    {
      "cell_type": "markdown",
      "source": [
        "20. What is the role of a pivot table in Pandas?\n",
        "\n",
        "   - A pivot table in Pandas is used to summarize and analyze large datasets by organizing data in a structured, tabular format. It helps in data aggregation, grouping, and statistical analysis.\n",
        "\n",
        "🔹 Key Benefits of Pivot Tables in Pandas\n",
        "\n",
        "✅ Summarizes Large Data Efficiently – Aggregates numerical data into a clear format.\n",
        "\n",
        "✅ Allows Grouping & Aggregation – Groups data by specific categories.\n",
        "\n",
        "✅ Supports Custom Aggregations – Uses functions like sum(), mean(), count(), etc.\n",
        "\n",
        "✅ Easily Reshapes DataFrames – Converts long-form data into a structured table.\n",
        "\n",
        "21. Why is NumPy’s array slicing faster than Python’s list slicing?\n",
        "\n",
        "    - 🔹 Key Reasons Why NumPy Slicing is Faster\n",
        "\n",
        "1️⃣ NumPy Uses Contiguous Memory Allocation (Better Cache Performance)\n",
        "\n",
        "NumPy stores elements in contiguous memory blocks, whereas Python lists store references to objects (which are scattered in memory).\n",
        "\n",
        "Contiguous storage allows fast retrieval and better cache locality, reducing access time.\n",
        "\n",
        "2️⃣ NumPy Uses Views Instead of Copies (Zero-Copy Slicing)\n",
        "\n",
        "When slicing a NumPy array, it creates a view (a reference to the same data).\n",
        "\n",
        "Python lists create new copies when sliced, which is slow.\n",
        "\n",
        "3️⃣ NumPy Operations Are Vectorized (C-based Optimizations)\n",
        "\n",
        "NumPy operations are written in C and optimized for speed.\n",
        "\n",
        "Python lists require explicit loops for operations, making them slower.\n",
        "\n",
        "4️⃣ NumPy Uses Typed Arrays (Less Overhead)\n",
        "\n",
        "Python lists can hold mixed data types, adding overhead for type checking.\n",
        "\n",
        "NumPy arrays use a fixed data type (dtype), reducing overhead.\n",
        "\n",
        "22. What are some common use cases for Seaborn?\n",
        "\n",
        "    - Seaborn is a Python library built on Matplotlib, designed for statistical data visualization. It provides beautiful, informative, and easy-to-create plots, making it ideal for data analysis, pattern discovery, and storytelling.\n",
        "\n",
        "🔹 1. Exploratory Data Analysis (EDA)\n",
        "\n",
        "Seaborn is widely used in EDA to quickly understand data distributions, correlations, and trends.\n",
        "\n",
        "🔹 2. Visualizing Data Distributions\n",
        "\n",
        "Seaborn helps in understanding how data is distributed using histograms, KDE plots, and boxplots.\n",
        "\n",
        "🔹 3. Understanding Relationships Between Variables\n",
        "\n",
        "Seaborn makes it easy to visualize correlations between numerical variables.\n",
        "\n",
        "🔹 4. Heatmaps for Correlation Matrices\n",
        "\n",
        "Heatmaps help visualize the correlation between numerical variables.\n",
        "\n",
        "🔹 5. Categorical Data Visualization\n",
        "\n",
        "Seaborn simplifies group-wise comparisons using bar plots, box plots, and violin plots.\n",
        "\n",
        "🔹 6. Time Series Data Visualization\n",
        "\n",
        "Seaborn supports line plots for time series analysis.\n",
        "\n",
        "🔹 7. Statistical Data Visualization\n",
        "\n",
        "Seaborn makes it easy to visualize confidence intervals, regressions, and density plots."
      ],
      "metadata": {
        "id": "rA-vuG1Lvyqi"
      }
    },
    {
      "cell_type": "markdown",
      "source": [
        "# Practical Questions and Answers"
      ],
      "metadata": {
        "id": "fOLl60PwxENS"
      }
    },
    {
      "cell_type": "markdown",
      "source": [
        "1. How do you create a 2D NumPy array and calculate the sum of each row?\n",
        "\n",
        "    - 🔹 Step 1: Create a 2D NumPy Array"
      ],
      "metadata": {
        "id": "YSeOW_xCxJRL"
      }
    },
    {
      "cell_type": "code",
      "source": [
        "import numpy as np\n",
        "\n",
        "# Creating a 2D array (3 rows, 4 columns)\n",
        "arr = np.array([[1, 2, 3, 4],\n",
        "                [5, 6, 7, 8],\n",
        "                [9, 10, 11, 12]])\n",
        "\n",
        "print(arr)\n"
      ],
      "metadata": {
        "colab": {
          "base_uri": "https://localhost:8080/"
        },
        "id": "cHEaK4N0xrqa",
        "outputId": "26ccc691-4b7c-4999-bfac-a2f804d7754c"
      },
      "execution_count": 19,
      "outputs": [
        {
          "output_type": "stream",
          "name": "stdout",
          "text": [
            "[[ 1  2  3  4]\n",
            " [ 5  6  7  8]\n",
            " [ 9 10 11 12]]\n"
          ]
        }
      ]
    },
    {
      "cell_type": "markdown",
      "source": [
        "🔹 Step 2: Calculate the Sum of Each Row\n",
        "\n",
        "NumPy provides an efficient way to sum rows using axis=1."
      ],
      "metadata": {
        "id": "3F4iHThWxu5t"
      }
    },
    {
      "cell_type": "code",
      "source": [
        "row_sums = arr.sum(axis=1)\n",
        "print(row_sums)\n"
      ],
      "metadata": {
        "colab": {
          "base_uri": "https://localhost:8080/"
        },
        "id": "CazO0KGHxyvV",
        "outputId": "12b373fc-9bbb-4fda-c59b-dba5cf471cfd"
      },
      "execution_count": 20,
      "outputs": [
        {
          "output_type": "stream",
          "name": "stdout",
          "text": [
            "[10 26 42]\n"
          ]
        }
      ]
    },
    {
      "cell_type": "markdown",
      "source": [
        "2. Write a Pandas script to find the mean of a specific column in a DataFrame."
      ],
      "metadata": {
        "id": "A1n3LF_vyLSi"
      }
    },
    {
      "cell_type": "code",
      "source": [
        "import pandas as pd\n",
        "\n",
        "# Creating a sample DataFrame\n",
        "data = {\n",
        "    \"Name\": [\"Alice\", \"Bob\", \"Charlie\", \"David\", \"Eve\"],\n",
        "    \"Age\": [25, 30, 35, 40, 28],\n",
        "    \"Salary\": [50000, 60000, 70000, 80000, 55000]\n",
        "}\n",
        "\n",
        "df = pd.DataFrame(data)\n",
        "\n",
        "# Calculate the mean of the \"Salary\" column\n",
        "mean_salary = df[\"Salary\"].mean()\n",
        "\n",
        "print(\"Mean Salary:\", mean_salary)\n"
      ],
      "metadata": {
        "colab": {
          "base_uri": "https://localhost:8080/"
        },
        "id": "u8qt4yBKyHly",
        "outputId": "7a7804b4-5773-4295-cca2-e3a4dc07b368"
      },
      "execution_count": 21,
      "outputs": [
        {
          "output_type": "stream",
          "name": "stdout",
          "text": [
            "Mean Salary: 63000.0\n"
          ]
        }
      ]
    },
    {
      "cell_type": "markdown",
      "source": [
        "3. Create a scatter plot using Matplotlib."
      ],
      "metadata": {
        "id": "OlSS-uC7yOaC"
      }
    },
    {
      "cell_type": "code",
      "source": [
        "import matplotlib.pyplot as plt\n",
        "import numpy as np\n",
        "\n",
        "# Sample data\n",
        "x = np.array([10, 20, 30, 40, 50, 60, 70, 80, 90, 100])\n",
        "y = np.array([5, 15, 25, 35, 50, 65, 70, 85, 95, 110])\n",
        "\n",
        "# Create scatter plot\n",
        "plt.scatter(x, y, color='blue', marker='o', edgecolors='black')\n",
        "\n",
        "# Add labels and title\n",
        "plt.xlabel(\"X Values\")\n",
        "plt.ylabel(\"Y Values\")\n",
        "plt.title(\"Basic Scatter Plot\")\n",
        "\n",
        "# Show plot\n",
        "plt.show()\n"
      ],
      "metadata": {
        "colab": {
          "base_uri": "https://localhost:8080/",
          "height": 472
        },
        "id": "7mlj68ScyV67",
        "outputId": "e35087dc-4165-4144-c9cd-847731f3c38c"
      },
      "execution_count": 22,
      "outputs": [
        {
          "output_type": "display_data",
          "data": {
            "text/plain": [
              "<Figure size 640x480 with 1 Axes>"
            ],
            "image/png": "[encoded data removed]"
          },
          "metadata": {}
        }
      ]
    },
    {
      "cell_type": "markdown",
      "source": [
        "4.  How do you calculate the correlation matrix using Seaborn and visualize it with a heatmap?"
      ],
      "metadata": {
        "id": "1DQajRIdyeg6"
      }
    },
    {
      "cell_type": "code",
      "source": [
        "import pandas as pd\n",
        "import seaborn as sns\n",
        "import matplotlib.pyplot as plt\n",
        "\n",
        "# Sample dataset\n",
        "data = {\n",
        "    \"Age\": [25, 30, 35, 40, 28, 32, 37, 45, 29, 31],\n",
        "    \"Salary\": [50000, 55000, 60000, 65000, 52000, 58000, 62000, 70000, 53000, 57000],\n",
        "    \"Experience\": [1, 3, 5, 7, 2, 4, 6, 10, 2, 3]\n",
        "}\n",
        "\n",
        "df = pd.DataFrame(data)\n",
        "\n",
        "# Compute correlation matrix\n",
        "corr_matrix = df.corr()\n",
        "print(corr_matrix)\n"
      ],
      "metadata": {
        "colab": {
          "base_uri": "https://localhost:8080/"
        },
        "id": "HZitn9-Gy2oz",
        "outputId": "637ef133-971a-4c2c-b719-dc423830e189"
      },
      "execution_count": 24,
      "outputs": [
        {
          "output_type": "stream",
          "name": "stdout",
          "text": [
            "                 Age    Salary  Experience\n",
            "Age         1.000000  0.994387    0.994191\n",
            "Salary      0.994387  1.000000    0.990539\n",
            "Experience  0.994191  0.990539    1.000000\n"
          ]
        }
      ]
    },
    {
      "cell_type": "markdown",
      "source": [
        "5. Generate a bar plot using Plotly."
      ],
      "metadata": {
        "id": "qCZyn983y4Wr"
      }
    },
    {
      "cell_type": "code",
      "source": [
        "import plotly.express as px\n",
        "\n",
        "# Sample data\n",
        "data = {\n",
        "    \"Category\": [\"A\", \"B\", \"C\", \"D\", \"E\"],\n",
        "    \"Values\": [10, 25, 15, 30, 20]\n",
        "}\n",
        "\n",
        "# Create bar chart\n",
        "fig = px.bar(data, x=\"Category\", y=\"Values\", title=\"Basic Bar Chart\", color=\"Category\")\n",
        "\n",
        "# Show the figure\n",
        "fig.show()\n"
      ],
      "metadata": {
        "colab": {
          "base_uri": "https://localhost:8080/",
          "height": 542
        },
        "id": "C62PxwySzHlr",
        "outputId": "870e793d-d2dd-4a60-de70-3b1975400e9d"
      },
      "execution_count": 25,
      "outputs": [
        {
          "output_type": "display_data",
          "data": {
            "text/html": [
              "<html>\n",
              "<head><meta charset=\"utf-8\" /></head>\n",
              "<body>\n",
              "    <div>            <script src=\"https://cdnjs.cloudflare.com/ajax/libs/mathjax/2.7.5/MathJax.js?config=TeX-AMS-MML_SVG\"></script><script type=\"text/javascript\">if (window.MathJax && window.MathJax.Hub && window.MathJax.Hub.Config) {window.MathJax.Hub.Config({SVG: {font: \"STIX-Web\"}});}</script>                <script type=\"text/javascript\">window.PlotlyConfig = {MathJaxConfig: 'local'};</script>\n",
              "        <script charset=\"utf-8\" src=\"https://cdn.plot.ly/plotly-2.35.2.min.js\"></script>                <div id=\"98c44fba-2295-4651-8531-4f38cc159e79\" class=\"plotly-graph-div\" style=\"height:525px; width:100%;\"></div>            <script type=\"text/javascript\">                                    window.PLOTLYENV=window.PLOTLYENV || {};                                    if (document.getElementById(\"98c44fba-2295-4651-8531-4f38cc159e79\")) {                    Plotly.newPlot(                        \"98c44fba-2295-4651-8531-4f38cc159e79\",                        [{\"alignmentgroup\":\"True\",\"hovertemplate\":\"Category=%{x}\\u003cbr\\u003eValues=%{y}\\u003cextra\\u003e\\u003c\\u002fextra\\u003e\",\"legendgroup\":\"A\",\"marker\":{\"color\":\"#636efa\",\"pattern\":{\"shape\":\"\"}},\"name\":\"A\",\"offsetgroup\":\"A\",\"orientation\":\"v\",\"showlegend\":true,\"textposition\":\"auto\",\"x\":[\"A\"],\"xaxis\":\"x\",\"y\":[10],\"yaxis\":\"y\",\"type\":\"bar\"},{\"alignmentgroup\":\"True\",\"hovertemplate\":\"Category=%{x}\\u003cbr\\u003eValues=%{y}\\u003cextra\\u003e\\u003c\\u002fextra\\u003e\",\"legendgroup\":\"B\",\"marker\":{\"color\":\"#EF553B\",\"pattern\":{\"shape\":\"\"}},\"name\":\"B\",\"offsetgroup\":\"B\",\"orientation\":\"v\",\"showlegend\":true,\"textposition\":\"auto\",\"x\":[\"B\"],\"xaxis\":\"x\",\"y\":[25],\"yaxis\":\"y\",\"type\":\"bar\"},{\"alignmentgroup\":\"True\",\"hovertemplate\":\"Category=%{x}\\u003cbr\\u003eValues=%{y}\\u003cextra\\u003e\\u003c\\u002fextra\\u003e\",\"legendgroup\":\"C\",\"marker\":{\"color\":\"#00cc96\",\"pattern\":{\"shape\":\"\"}},\"name\":\"C\",\"offsetgroup\":\"C\",\"orientation\":\"v\",\"showlegend\":true,\"textposition\":\"auto\",\"x\":[\"C\"],\"xaxis\":\"x\",\"y\":[15],\"yaxis\":\"y\",\"type\":\"bar\"},{\"alignmentgroup\":\"True\",\"hovertemplate\":\"Category=%{x}\\u003cbr\\u003eValues=%{y}\\u003cextra\\u003e\\u003c\\u002fextra\\u003e\",\"legendgroup\":\"D\",\"marker\":{\"color\":\"#ab63fa\",\"pattern\":{\"shape\":\"\"}},\"name\":\"D\",\"offsetgroup\":\"D\",\"orientation\":\"v\",\"showlegend\":true,\"textposition\":\"auto\",\"x\":[\"D\"],\"xaxis\":\"x\",\"y\":[30],\"yaxis\":\"y\",\"type\":\"bar\"},{\"alignmentgroup\":\"True\",\"hovertemplate\":\"Category=%{x}\\u003cbr\\u003eValues=%{y}\\u003cextra\\u003e\\u003c\\u002fextra\\u003e\",\"legendgroup\":\"E\",\"marker\":{\"color\":\"#FFA15A\",\"pattern\":{\"shape\":\"\"}},\"name\":\"E\",\"offsetgroup\":\"E\",\"orientation\":\"v\",\"showlegend\":true,\"textposition\":\"auto\",\"x\":[\"E\"],\"xaxis\":\"x\",\"y\":[20],\"yaxis\":\"y\",\"type\":\"bar\"}],                        {\"template\":{\"data\":{\"histogram2dcontour\":[{\"type\":\"histogram2dcontour\",\"colorbar\":{\"outlinewidth\":0,\"ticks\":\"\"},\"colorscale\":[[0.0,\"#0d0887\"],[0.1111111111111111,\"#46039f\"],[0.2222222222222222,\"#7201a8\"],[0.3333333333333333,\"#9c179e\"],[0.4444444444444444,\"#bd3786\"],[0.5555555555555556,\"#d8576b\"],[0.6666666666666666,\"#ed7953\"],[0.7777777777777778,\"#fb9f3a\"],[0.8888888888888888,\"#fdca26\"],[1.0,\"#f0f921\"]]}],\"choropleth\":[{\"type\":\"choropleth\",\"colorbar\":{\"outlinewidth\":0,\"ticks\":\"\"}}],\"histogram2d\":[{\"type\":\"histogram2d\",\"colorbar\":{\"outlinewidth\":0,\"ticks\":\"\"},\"colorscale\":[[0.0,\"#0d0887\"],[0.1111111111111111,\"#46039f\"],[0.2222222222222222,\"#7201a8\"],[0.3333333333333333,\"#9c179e\"],[0.4444444444444444,\"#bd3786\"],[0.5555555555555556,\"#d8576b\"],[0.6666666666666666,\"#ed7953\"],[0.7777777777777778,\"#fb9f3a\"],[0.8888888888888888,\"#fdca26\"],[1.0,\"#f0f921\"]]}],\"heatmap\":[{\"type\":\"heatmap\",\"colorbar\":{\"outlinewidth\":0,\"ticks\":\"\"},\"colorscale\":[[0.0,\"#0d0887\"],[0.1111111111111111,\"#46039f\"],[0.2222222222222222,\"#7201a8\"],[0.3333333333333333,\"#9c179e\"],[0.4444444444444444,\"#bd3786\"],[0.5555555555555556,\"#d8576b\"],[0.6666666666666666,\"#ed7953\"],[0.7777777777777778,\"#fb9f3a\"],[0.8888888888888888,\"#fdca26\"],[1.0,\"#f0f921\"]]}],\"heatmapgl\":[{\"type\":\"heatmapgl\",\"colorbar\":{\"outlinewidth\":0,\"ticks\":\"\"},\"colorscale\":[[0.0,\"#0d0887\"],[0.1111111111111111,\"#46039f\"],[0.2222222222222222,\"#7201a8\"],[0.3333333333333333,\"#9c179e\"],[0.4444444444444444,\"#bd3786\"],[0.5555555555555556,\"#d8576b\"],[0.6666666666666666,\"#ed7953\"],[0.7777777777777778,\"#fb9f3a\"],[0.8888888888888888,\"#fdca26\"],[1.0,\"#f0f921\"]]}],\"contourcarpet\":[{\"type\":\"contourcarpet\",\"colorbar\":{\"outlinewidth\":0,\"ticks\":\"\"}}],\"contour\":[{\"type\":\"contour\",\"colorbar\":{\"outlinewidth\":0,\"ticks\":\"\"},\"colorscale\":[[0.0,\"#0d0887\"],[0.1111111111111111,\"#46039f\"],[0.2222222222222222,\"#7201a8\"],[0.3333333333333333,\"#9c179e\"],[0.4444444444444444,\"#bd3786\"],[0.5555555555555556,\"#d8576b\"],[0.6666666666666666,\"#ed7953\"],[0.7777777777777778,\"#fb9f3a\"],[0.8888888888888888,\"#fdca26\"],[1.0,\"#f0f921\"]]}],\"surface\":[{\"type\":\"surface\",\"colorbar\":{\"outlinewidth\":0,\"ticks\":\"\"},\"colorscale\":[[0.0,\"#0d0887\"],[0.1111111111111111,\"#46039f\"],[0.2222222222222222,\"#7201a8\"],[0.3333333333333333,\"#9c179e\"],[0.4444444444444444,\"#bd3786\"],[0.5555555555555556,\"#d8576b\"],[0.6666666666666666,\"#ed7953\"],[0.7777777777777778,\"#fb9f3a\"],[0.8888888888888888,\"#fdca26\"],[1.0,\"#f0f921\"]]}],\"mesh3d\":[{\"type\":\"mesh3d\",\"colorbar\":{\"outlinewidth\":0,\"ticks\":\"\"}}],\"scatter\":[{\"fillpattern\":{\"fillmode\":\"overlay\",\"size\":10,\"solidity\":0.2},\"type\":\"scatter\"}],\"parcoords\":[{\"type\":\"parcoords\",\"line\":{\"colorbar\":{\"outlinewidth\":0,\"ticks\":\"\"}}}],\"scatterpolargl\":[{\"type\":\"scatterpolargl\",\"marker\":{\"colorbar\":{\"outlinewidth\":0,\"ticks\":\"\"}}}],\"bar\":[{\"error_x\":{\"color\":\"#2a3f5f\"},\"error_y\":{\"color\":\"#2a3f5f\"},\"marker\":{\"line\":{\"color\":\"#E5ECF6\",\"width\":0.5},\"pattern\":{\"fillmode\":\"overlay\",\"size\":10,\"solidity\":0.2}},\"type\":\"bar\"}],\"scattergeo\":[{\"type\":\"scattergeo\",\"marker\":{\"colorbar\":{\"outlinewidth\":0,\"ticks\":\"\"}}}],\"scatterpolar\":[{\"type\":\"scatterpolar\",\"marker\":{\"colorbar\":{\"outlinewidth\":0,\"ticks\":\"\"}}}],\"histogram\":[{\"marker\":{\"pattern\":{\"fillmode\":\"overlay\",\"size\":10,\"solidity\":0.2}},\"type\":\"histogram\"}],\"scattergl\":[{\"type\":\"scattergl\",\"marker\":{\"colorbar\":{\"outlinewidth\":0,\"ticks\":\"\"}}}],\"scatter3d\":[{\"type\":\"scatter3d\",\"line\":{\"colorbar\":{\"outlinewidth\":0,\"ticks\":\"\"}},\"marker\":{\"colorbar\":{\"outlinewidth\":0,\"ticks\":\"\"}}}],\"scattermapbox\":[{\"type\":\"scattermapbox\",\"marker\":{\"colorbar\":{\"outlinewidth\":0,\"ticks\":\"\"}}}],\"scatterternary\":[{\"type\":\"scatterternary\",\"marker\":{\"colorbar\":{\"outlinewidth\":0,\"ticks\":\"\"}}}],\"scattercarpet\":[{\"type\":\"scattercarpet\",\"marker\":{\"colorbar\":{\"outlinewidth\":0,\"ticks\":\"\"}}}],\"carpet\":[{\"aaxis\":{\"endlinecolor\":\"#2a3f5f\",\"gridcolor\":\"white\",\"linecolor\":\"white\",\"minorgridcolor\":\"white\",\"startlinecolor\":\"#2a3f5f\"},\"baxis\":{\"endlinecolor\":\"#2a3f5f\",\"gridcolor\":\"white\",\"linecolor\":\"white\",\"minorgridcolor\":\"white\",\"startlinecolor\":\"#2a3f5f\"},\"type\":\"carpet\"}],\"table\":[{\"cells\":{\"fill\":{\"color\":\"#EBF0F8\"},\"line\":{\"color\":\"white\"}},\"header\":{\"fill\":{\"color\":\"#C8D4E3\"},\"line\":{\"color\":\"white\"}},\"type\":\"table\"}],\"barpolar\":[{\"marker\":{\"line\":{\"color\":\"#E5ECF6\",\"width\":0.5},\"pattern\":{\"fillmode\":\"overlay\",\"size\":10,\"solidity\":0.2}},\"type\":\"barpolar\"}],\"pie\":[{\"automargin\":true,\"type\":\"pie\"}]},\"layout\":{\"autotypenumbers\":\"strict\",\"colorway\":[\"#636efa\",\"#EF553B\",\"#00cc96\",\"#ab63fa\",\"#FFA15A\",\"#19d3f3\",\"#FF6692\",\"#B6E880\",\"#FF97FF\",\"#FECB52\"],\"font\":{\"color\":\"#2a3f5f\"},\"hovermode\":\"closest\",\"hoverlabel\":{\"align\":\"left\"},\"paper_bgcolor\":\"white\",\"plot_bgcolor\":\"#E5ECF6\",\"polar\":{\"bgcolor\":\"#E5ECF6\",\"angularaxis\":{\"gridcolor\":\"white\",\"linecolor\":\"white\",\"ticks\":\"\"},\"radialaxis\":{\"gridcolor\":\"white\",\"linecolor\":\"white\",\"ticks\":\"\"}},\"ternary\":{\"bgcolor\":\"#E5ECF6\",\"aaxis\":{\"gridcolor\":\"white\",\"linecolor\":\"white\",\"ticks\":\"\"},\"baxis\":{\"gridcolor\":\"white\",\"linecolor\":\"white\",\"ticks\":\"\"},\"caxis\":{\"gridcolor\":\"white\",\"linecolor\":\"white\",\"ticks\":\"\"}},\"coloraxis\":{\"colorbar\":{\"outlinewidth\":0,\"ticks\":\"\"}},\"colorscale\":{\"sequential\":[[0.0,\"#0d0887\"],[0.1111111111111111,\"#46039f\"],[0.2222222222222222,\"#7201a8\"],[0.3333333333333333,\"#9c179e\"],[0.4444444444444444,\"#bd3786\"],[0.5555555555555556,\"#d8576b\"],[0.6666666666666666,\"#ed7953\"],[0.7777777777777778,\"#fb9f3a\"],[0.8888888888888888,\"#fdca26\"],[1.0,\"#f0f921\"]],\"sequentialminus\":[[0.0,\"#0d0887\"],[0.1111111111111111,\"#46039f\"],[0.2222222222222222,\"#7201a8\"],[0.3333333333333333,\"#9c179e\"],[0.4444444444444444,\"#bd3786\"],[0.5555555555555556,\"#d8576b\"],[0.6666666666666666,\"#ed7953\"],[0.7777777777777778,\"#fb9f3a\"],[0.8888888888888888,\"#fdca26\"],[1.0,\"#f0f921\"]],\"diverging\":[[0,\"#8e0152\"],[0.1,\"#c51b7d\"],[0.2,\"#de77ae\"],[0.3,\"#f1b6da\"],[0.4,\"#fde0ef\"],[0.5,\"#f7f7f7\"],[0.6,\"#e6f5d0\"],[0.7,\"#b8e186\"],[0.8,\"#7fbc41\"],[0.9,\"#4d9221\"],[1,\"#276419\"]]},\"xaxis\":{\"gridcolor\":\"white\",\"linecolor\":\"white\",\"ticks\":\"\",\"title\":{\"standoff\":15},\"zerolinecolor\":\"white\",\"automargin\":true,\"zerolinewidth\":2},\"yaxis\":{\"gridcolor\":\"white\",\"linecolor\":\"white\",\"ticks\":\"\",\"title\":{\"standoff\":15},\"zerolinecolor\":\"white\",\"automargin\":true,\"zerolinewidth\":2},\"scene\":{\"xaxis\":{\"backgroundcolor\":\"#E5ECF6\",\"gridcolor\":\"white\",\"linecolor\":\"white\",\"showbackground\":true,\"ticks\":\"\",\"zerolinecolor\":\"white\",\"gridwidth\":2},\"yaxis\":{\"backgroundcolor\":\"#E5ECF6\",\"gridcolor\":\"white\",\"linecolor\":\"white\",\"showbackground\":true,\"ticks\":\"\",\"zerolinecolor\":\"white\",\"gridwidth\":2},\"zaxis\":{\"backgroundcolor\":\"#E5ECF6\",\"gridcolor\":\"white\",\"linecolor\":\"white\",\"showbackground\":true,\"ticks\":\"\",\"zerolinecolor\":\"white\",\"gridwidth\":2}},\"shapedefaults\":{\"line\":{\"color\":\"#2a3f5f\"}},\"annotationdefaults\":{\"arrowcolor\":\"#2a3f5f\",\"arrowhead\":0,\"arrowwidth\":1},\"geo\":{\"bgcolor\":\"white\",\"landcolor\":\"#E5ECF6\",\"subunitcolor\":\"white\",\"showland\":true,\"showlakes\":true,\"lakecolor\":\"white\"},\"title\":{\"x\":0.05},\"mapbox\":{\"style\":\"light\"}}},\"xaxis\":{\"anchor\":\"y\",\"domain\":[0.0,1.0],\"title\":{\"text\":\"Category\"},\"categoryorder\":\"array\",\"categoryarray\":[\"A\",\"B\",\"C\",\"D\",\"E\"]},\"yaxis\":{\"anchor\":\"x\",\"domain\":[0.0,1.0],\"title\":{\"text\":\"Values\"}},\"legend\":{\"title\":{\"text\":\"Category\"},\"tracegroupgap\":0},\"title\":{\"text\":\"Basic Bar Chart\"},\"barmode\":\"relative\"},                        {\"responsive\": true}                    ).then(function(){\n",
              "                            \n",
              "var gd = document.getElementById('98c44fba-2295-4651-8531-4f38cc159e79');\n",
              "var x = new MutationObserver(function (mutations, observer) {{\n",
              "        var display = window.getComputedStyle(gd).display;\n",
              "        if (!display || display === 'none') {{\n",
              "            console.log([gd, 'removed!']);\n",
              "            Plotly.purge(gd);\n",
              "            observer.disconnect();\n",
              "        }}\n",
              "}});\n",
              "\n",
              "// Listen for the removal of the full notebook cells\n",
              "var notebookContainer = gd.closest('#notebook-container');\n",
              "if (notebookContainer) {{\n",
              "    x.observe(notebookContainer, {childList: true});\n",
              "}}\n",
              "\n",
              "// Listen for the clearing of the current output cell\n",
              "var outputEl = gd.closest('.output');\n",
              "if (outputEl) {{\n",
              "    x.observe(outputEl, {childList: true});\n",
              "}}\n",
              "\n",
              "                        })                };                            </script>        </div>\n",
              "</body>\n",
              "</html>"
            ]
          },
          "metadata": {}
        }
      ]
    },
    {
      "cell_type": "markdown",
      "source": [
        "6. Create a DataFrame and add a new column based on an existing column.\n",
        "\n",
        "   - 🔹 Step 1: Create a DataFrame"
      ],
      "metadata": {
        "id": "CFM-2KhCzLDL"
      }
    },
    {
      "cell_type": "code",
      "source": [
        "import pandas as pd\n",
        "\n",
        "# Creating a sample DataFrame\n",
        "df = pd.DataFrame({\n",
        "    \"Name\": [\"Alice\", \"Bob\", \"Charlie\", \"David\", \"Eve\"],\n",
        "    \"Age\": [25, 30, 35, 40, 28],\n",
        "    \"Salary\": [50000, 60000, 70000, 80000, 55000]\n",
        "})\n",
        "\n",
        "print(df)\n"
      ],
      "metadata": {
        "colab": {
          "base_uri": "https://localhost:8080/"
        },
        "id": "OS3oEdNGzXwK",
        "outputId": "4ea58658-d199-4f50-ee5e-558692856384"
      },
      "execution_count": 26,
      "outputs": [
        {
          "output_type": "stream",
          "name": "stdout",
          "text": [
            "      Name  Age  Salary\n",
            "0    Alice   25   50000\n",
            "1      Bob   30   60000\n",
            "2  Charlie   35   70000\n",
            "3    David   40   80000\n",
            "4      Eve   28   55000\n"
          ]
        }
      ]
    },
    {
      "cell_type": "markdown",
      "source": [
        "🔹 Step 2: Add a New Column Based on an Existing Column\n",
        "\n",
        "1️⃣ Adding a Column Using a Simple Calculation"
      ],
      "metadata": {
        "id": "Qpc-4UBBzcAE"
      }
    },
    {
      "cell_type": "code",
      "source": [
        "df[\"Bonus\"] = df[\"Salary\"] * 0.10  # 10% bonus\n",
        "print(df)\n"
      ],
      "metadata": {
        "colab": {
          "base_uri": "https://localhost:8080/"
        },
        "id": "fNgwh583zjri",
        "outputId": "29582af4-9312-450f-d5e0-9d4b5d54f840"
      },
      "execution_count": 27,
      "outputs": [
        {
          "output_type": "stream",
          "name": "stdout",
          "text": [
            "      Name  Age  Salary   Bonus\n",
            "0    Alice   25   50000  5000.0\n",
            "1      Bob   30   60000  6000.0\n",
            "2  Charlie   35   70000  7000.0\n",
            "3    David   40   80000  8000.0\n",
            "4      Eve   28   55000  5500.0\n"
          ]
        }
      ]
    },
    {
      "cell_type": "markdown",
      "source": [
        "2️⃣ Adding a Column Using Conditional Logic (apply() + Lambda)"
      ],
      "metadata": {
        "id": "hRc-Msufznqy"
      }
    },
    {
      "cell_type": "code",
      "source": [
        "df[\"Seniority\"] = df[\"Age\"].apply(lambda x: \"Senior\" if x > 30 else \"Junior\")\n",
        "print(df)\n"
      ],
      "metadata": {
        "colab": {
          "base_uri": "https://localhost:8080/"
        },
        "id": "y7gLJ8m2zsqb",
        "outputId": "d7d6ab12-edc9-4b76-8dca-deac026528fb"
      },
      "execution_count": 28,
      "outputs": [
        {
          "output_type": "stream",
          "name": "stdout",
          "text": [
            "      Name  Age  Salary   Bonus Seniority\n",
            "0    Alice   25   50000  5000.0    Junior\n",
            "1      Bob   30   60000  6000.0    Junior\n",
            "2  Charlie   35   70000  7000.0    Senior\n",
            "3    David   40   80000  8000.0    Senior\n",
            "4      Eve   28   55000  5500.0    Junior\n"
          ]
        }
      ]
    },
    {
      "cell_type": "markdown",
      "source": [
        "3️⃣ Adding a Column Using np.where() (More Efficient for Large Data)\n",
        "\n"
      ],
      "metadata": {
        "id": "ObcZigyVzvHy"
      }
    },
    {
      "cell_type": "code",
      "source": [
        "import numpy as np\n",
        "\n",
        "df[\"Tax Bracket\"] = np.where(df[\"Salary\"] > 60000, \"High\", \"Low\")\n",
        "print(df)\n"
      ],
      "metadata": {
        "colab": {
          "base_uri": "https://localhost:8080/"
        },
        "id": "1BlZNHeHz0Yi",
        "outputId": "d5c2c9c1-67bf-4b45-9d94-4dde775bf170"
      },
      "execution_count": 29,
      "outputs": [
        {
          "output_type": "stream",
          "name": "stdout",
          "text": [
            "      Name  Age  Salary   Bonus Seniority Tax Bracket\n",
            "0    Alice   25   50000  5000.0    Junior         Low\n",
            "1      Bob   30   60000  6000.0    Junior         Low\n",
            "2  Charlie   35   70000  7000.0    Senior        High\n",
            "3    David   40   80000  8000.0    Senior        High\n",
            "4      Eve   28   55000  5500.0    Junior         Low\n"
          ]
        }
      ]
    },
    {
      "cell_type": "markdown",
      "source": [
        "7. Write a program to perform element-wise multiplication of two NumPy arrays.\n",
        "\n",
        "   - 🔹 Method 1: Using the * Operator (Element-wise Multiplication)\n"
      ],
      "metadata": {
        "id": "yON6coTvz1mK"
      }
    },
    {
      "cell_type": "code",
      "source": [
        "import numpy as np\n",
        "\n",
        "# Define two NumPy arrays\n",
        "arr1 = np.array([1, 2, 3, 4, 5])\n",
        "arr2 = np.array([10, 20, 30, 40, 50])\n",
        "\n",
        "# Element-wise multiplication\n",
        "result = arr1 * arr2\n",
        "\n",
        "# Display the result\n",
        "print(\"Element-wise Multiplication Result:\", result)\n"
      ],
      "metadata": {
        "colab": {
          "base_uri": "https://localhost:8080/"
        },
        "id": "8TPuCJi00BIj",
        "outputId": "ceae9aec-87d3-4ca7-8983-4a6b61820815"
      },
      "execution_count": 30,
      "outputs": [
        {
          "output_type": "stream",
          "name": "stdout",
          "text": [
            "Element-wise Multiplication Result: [ 10  40  90 160 250]\n"
          ]
        }
      ]
    },
    {
      "cell_type": "markdown",
      "source": [
        "🔹 Method 2: Using np.multiply()"
      ],
      "metadata": {
        "id": "aAiD-p8U0DQV"
      }
    },
    {
      "cell_type": "code",
      "source": [
        "result = np.multiply(arr1, arr2)\n",
        "print(\"Using np.multiply():\", result)\n"
      ],
      "metadata": {
        "colab": {
          "base_uri": "https://localhost:8080/"
        },
        "id": "VMODRKTT0F06",
        "outputId": "70ccbf12-f5f9-4095-9087-bf403bf47961"
      },
      "execution_count": 31,
      "outputs": [
        {
          "output_type": "stream",
          "name": "stdout",
          "text": [
            "Using np.multiply(): [ 10  40  90 160 250]\n"
          ]
        }
      ]
    },
    {
      "cell_type": "markdown",
      "source": [],
      "metadata": {
        "id": "zhYAatQTyXQb"
      }
    },
    {
      "cell_type": "markdown",
      "source": [
        "🔹 Method 3: Element-wise Multiplication for 2D Arrays (Matrices)"
      ],
      "metadata": {
        "id": "Zm2xCr5m0If7"
      }
    },
    {
      "cell_type": "code",
      "source": [
        "# Define two 2D arrays (matrices)\n",
        "matrix1 = np.array([[1, 2], [3, 4]])\n",
        "matrix2 = np.array([[10, 20], [30, 40]])\n",
        "\n",
        "# Element-wise multiplication\n",
        "result_matrix = matrix1 * matrix2\n",
        "\n",
        "print(\"Element-wise Multiplication of 2D Arrays:\\n\", result_matrix)\n"
      ],
      "metadata": {
        "colab": {
          "base_uri": "https://localhost:8080/"
        },
        "id": "nQffgKg40LAD",
        "outputId": "3236c58a-006f-47c5-f53a-6a9809098825"
      },
      "execution_count": 32,
      "outputs": [
        {
          "output_type": "stream",
          "name": "stdout",
          "text": [
            "Element-wise Multiplication of 2D Arrays:\n",
            " [[ 10  40]\n",
            " [ 90 160]]\n"
          ]
        }
      ]
    },
    {
      "cell_type": "markdown",
      "source": [
        "8. Create a line plot with multiple lines using Matplotlib.\n",
        "\n",
        "\n",
        "   - 🔹 Step 1: Import Required Libraries"
      ],
      "metadata": {
        "id": "AuxKlQgX0OFi"
      }
    },
    {
      "cell_type": "code",
      "source": [
        "import matplotlib.pyplot as plt\n",
        "import numpy as np\n",
        "\n",
        "# Sample data\n",
        "x = np.array([1, 2, 3, 4, 5])\n",
        "\n",
        "# Define multiple Y values (corresponding to different lines)\n",
        "y1 = np.array([10, 15, 20, 25, 30])\n",
        "y2 = np.array([5, 10, 15, 20, 25])\n",
        "y3 = np.array([2, 5, 8, 11, 14])\n",
        "\n",
        "# Create line plot\n",
        "plt.plot(x, y1, marker=\"o\", linestyle=\"-\", color=\"blue\", label=\"Line 1\")\n",
        "plt.plot(x, y2, marker=\"s\", linestyle=\"--\", color=\"red\", label=\"Line 2\")\n",
        "plt.plot(x, y3, marker=\"^\", linestyle=\":\", color=\"green\", label=\"Line 3\")\n",
        "\n",
        "# Add labels and title\n",
        "plt.xlabel(\"X Axis\")\n",
        "plt.ylabel(\"Y Axis\")\n",
        "plt.title(\"Line Plot with Multiple Lines\")\n",
        "\n",
        "# Add legend\n",
        "plt.legend()\n",
        "\n",
        "# Show the plot\n",
        "plt.show()\n"
      ],
      "metadata": {
        "colab": {
          "base_uri": "https://localhost:8080/",
          "height": 472
        },
        "id": "pIuh9mXj0Yel",
        "outputId": "0c429148-aaf0-4f1b-ec05-e2b277611d3f"
      },
      "execution_count": 33,
      "outputs": [
        {
          "output_type": "display_data",
          "data": {
            "text/plain": [
              "<Figure size 640x480 with 1 Axes>"
            ],
            "image/png": "[encoded data removed]"
          },
          "metadata": {}
        }
      ]
    },
    {
      "cell_type": "markdown",
      "source": [
        "🔹 Explanation\n",
        "\n",
        "✅ plt.plot(x, y1, label=\"Line 1\") → Plots first line in blue with circles (marker=\"o\").\n",
        "\n",
        "✅ plt.plot(x, y2, linestyle=\"--\", color=\"red\") → Plots second line in dashed red with squares (marker=\"s\").\n",
        "\n",
        "✅ plt.plot(x, y3, linestyle=\":\", color=\"green\") → Plots third line in dotted green with triangles (marker=\"^\").\n",
        "\n",
        "✅ plt.legend() → Displays the labels for each line.\n",
        "\n"
      ],
      "metadata": {
        "id": "63mcCEK70eya"
      }
    },
    {
      "cell_type": "markdown",
      "source": [
        "9. Generate a Pandas DataFrame and filter rows where a column value is greater than a threshold.\n",
        "\n",
        "    - 🔹 Step 1: Create a Sample DataFrame"
      ],
      "metadata": {
        "id": "sS5J5uDd0hHz"
      }
    },
    {
      "cell_type": "code",
      "source": [
        "import pandas as pd\n",
        "\n",
        "# Creating a DataFrame\n",
        "data = {\n",
        "    \"Name\": [\"Alice\", \"Bob\", \"Charlie\", \"David\", \"Eve\"],\n",
        "    \"Age\": [25, 30, 35, 40, 28],\n",
        "    \"Salary\": [50000, 60000, 70000, 80000, 55000]\n",
        "}\n",
        "\n",
        "df = pd.DataFrame(data)\n",
        "\n",
        "# Display the DataFrame\n",
        "print(df)\n"
      ],
      "metadata": {
        "colab": {
          "base_uri": "https://localhost:8080/"
        },
        "id": "Q2J02b8y04ES",
        "outputId": "7b525028-8bcd-42b0-a911-fcc03b4a7a73"
      },
      "execution_count": 34,
      "outputs": [
        {
          "output_type": "stream",
          "name": "stdout",
          "text": [
            "      Name  Age  Salary\n",
            "0    Alice   25   50000\n",
            "1      Bob   30   60000\n",
            "2  Charlie   35   70000\n",
            "3    David   40   80000\n",
            "4      Eve   28   55000\n"
          ]
        }
      ]
    },
    {
      "cell_type": "markdown",
      "source": [
        "🔹 Step 2: Filter Rows Where Salary is Greater than a Threshold"
      ],
      "metadata": {
        "id": "VKfUX_ez06U6"
      }
    },
    {
      "cell_type": "code",
      "source": [
        "# Filter rows where Salary is greater than 60000\n",
        "filtered_df = df[df[\"Salary\"] > 60000]\n",
        "\n",
        "# Display the filtered DataFrame\n",
        "print(filtered_df)\n"
      ],
      "metadata": {
        "colab": {
          "base_uri": "https://localhost:8080/"
        },
        "id": "F9ryjoBj0zJa",
        "outputId": "21034c2a-f740-4b78-b5cd-7c72e49a6d49"
      },
      "execution_count": 35,
      "outputs": [
        {
          "output_type": "stream",
          "name": "stdout",
          "text": [
            "      Name  Age  Salary\n",
            "2  Charlie   35   70000\n",
            "3    David   40   80000\n"
          ]
        }
      ]
    },
    {
      "cell_type": "markdown",
      "source": [
        "🔹 Step 3: Filter with Multiple Conditions"
      ],
      "metadata": {
        "id": "-g7MOkGn0-i6"
      }
    },
    {
      "cell_type": "code",
      "source": [
        "# Filter rows where Age > 30 AND Salary > 60000\n",
        "filtered_df = df[(df[\"Age\"] > 30) & (df[\"Salary\"] > 60000)]\n",
        "print(filtered_df)\n"
      ],
      "metadata": {
        "colab": {
          "base_uri": "https://localhost:8080/"
        },
        "id": "c1XT-yTq1AtK",
        "outputId": "43c57413-d94c-4eb0-ff8e-fd170e7fa5b0"
      },
      "execution_count": 36,
      "outputs": [
        {
          "output_type": "stream",
          "name": "stdout",
          "text": [
            "      Name  Age  Salary\n",
            "2  Charlie   35   70000\n",
            "3    David   40   80000\n"
          ]
        }
      ]
    },
    {
      "cell_type": "markdown",
      "source": [
        "🔹 Step 4: Filter Using query() (Alternative Method)\n",
        "\n"
      ],
      "metadata": {
        "id": "HPzXXeKq1Czr"
      }
    },
    {
      "cell_type": "code",
      "source": [
        "filtered_df = df.query(\"Salary > 60000\")\n",
        "print(filtered_df)\n"
      ],
      "metadata": {
        "colab": {
          "base_uri": "https://localhost:8080/"
        },
        "id": "0bulvBRe1F3a",
        "outputId": "ff032cc9-f59b-45cd-fdc4-0bb8d2ea4b60"
      },
      "execution_count": 37,
      "outputs": [
        {
          "output_type": "stream",
          "name": "stdout",
          "text": [
            "      Name  Age  Salary\n",
            "2  Charlie   35   70000\n",
            "3    David   40   80000\n"
          ]
        }
      ]
    },
    {
      "cell_type": "markdown",
      "source": [
        "10. Create a histogram using Seaborn to visualize a distribution.\n",
        "\n",
        "   - 🔹 Step 1: Import Required Libraries"
      ],
      "metadata": {
        "id": "vb9sH0wb1Iyz"
      }
    },
    {
      "cell_type": "code",
      "source": [
        "import seaborn as sns\n",
        "import matplotlib.pyplot as plt\n",
        "import numpy as np\n",
        "\n",
        "# Generate random data (e.g., Age distribution)\n",
        "np.random.seed(42)\n",
        "ages = np.random.normal(loc=30, scale=5, size=200)  # Mean=30, Std=5, 200 samples\n",
        "\n",
        "# Create a histogram using Seaborn\n",
        "sns.histplot(ages, bins=20, kde=True, color=\"blue\")\n",
        "\n",
        "# Add labels and title\n",
        "plt.xlabel(\"Age\")\n",
        "plt.ylabel(\"Frequency\")\n",
        "plt.title(\"Age Distribution Histogram\")\n",
        "\n",
        "# Show plot\n",
        "plt.show()\n"
      ],
      "metadata": {
        "colab": {
          "base_uri": "https://localhost:8080/",
          "height": 472
        },
        "id": "xLED1tzN1ZTz",
        "outputId": "90a5620e-9c77-4f9b-dcd2-c0029129ca23"
      },
      "execution_count": 38,
      "outputs": [
        {
          "output_type": "display_data",
          "data": {
            "text/plain": [
              "<Figure size 640x480 with 1 Axes>"
            ],
            "image/png": "[encoded data removed]"
          },
          "metadata": {}
        }
      ]
    },
    {
      "cell_type": "markdown",
      "source": [
        "11. Perform matrix multiplication using NumPy.\n",
        "\n",
        "   - 🔹 1. Using np.dot() (Preferred for 2D Matrices)"
      ],
      "metadata": {
        "id": "ppaX1luh1b1K"
      }
    },
    {
      "cell_type": "code",
      "source": [
        "import numpy as np\n",
        "\n",
        "# Define two matrices\n",
        "A = np.array([[1, 2], [3, 4]])  # Shape (2,2)\n",
        "B = np.array([[5, 6], [7, 8]])  # Shape (2,2)\n",
        "\n",
        "# Perform matrix multiplication\n",
        "result = np.dot(A, B)\n",
        "\n",
        "# Display the result\n",
        "print(\"Matrix Multiplication Result:\\n\", result)\n"
      ],
      "metadata": {
        "colab": {
          "base_uri": "https://localhost:8080/"
        },
        "id": "kqjUwLjq1rHb",
        "outputId": "a3853b84-70a5-470a-b95a-29498a1cf117"
      },
      "execution_count": 39,
      "outputs": [
        {
          "output_type": "stream",
          "name": "stdout",
          "text": [
            "Matrix Multiplication Result:\n",
            " [[19 22]\n",
            " [43 50]]\n"
          ]
        }
      ]
    },
    {
      "cell_type": "markdown",
      "source": [
        "🔹 2. Using @ Operator (Pythonic Way)"
      ],
      "metadata": {
        "id": "4XThEnLL141C"
      }
    },
    {
      "cell_type": "code",
      "source": [
        "result = A @ B  # Equivalent to np.dot(A, B)\n",
        "print(result)\n"
      ],
      "metadata": {
        "colab": {
          "base_uri": "https://localhost:8080/"
        },
        "id": "GNrmL_8p15W9",
        "outputId": "4e4e2e1b-f14d-4049-d43e-8fb14ecfc9f5"
      },
      "execution_count": 40,
      "outputs": [
        {
          "output_type": "stream",
          "name": "stdout",
          "text": [
            "[[19 22]\n",
            " [43 50]]\n"
          ]
        }
      ]
    },
    {
      "cell_type": "markdown",
      "source": [
        "🔹 3. Using np.matmul() (Recommended for Higher Dimensions)"
      ],
      "metadata": {
        "id": "rcFqlrwp17wS"
      }
    },
    {
      "cell_type": "code",
      "source": [
        "result = np.matmul(A, B)\n",
        "print(result)\n"
      ],
      "metadata": {
        "colab": {
          "base_uri": "https://localhost:8080/"
        },
        "id": "df5mdjlk1_F8",
        "outputId": "76410fb5-905b-49e2-ee07-029de219eda0"
      },
      "execution_count": 41,
      "outputs": [
        {
          "output_type": "stream",
          "name": "stdout",
          "text": [
            "[[19 22]\n",
            " [43 50]]\n"
          ]
        }
      ]
    },
    {
      "cell_type": "markdown",
      "source": [
        "🔹 4. Element-wise Multiplication (NOT Matrix Multiplication)"
      ],
      "metadata": {
        "id": "Myf7bcEX2Avq"
      }
    },
    {
      "cell_type": "code",
      "source": [
        "result_elementwise = A * B\n",
        "print(\"Element-wise Multiplication:\\n\", result_elementwise)\n"
      ],
      "metadata": {
        "colab": {
          "base_uri": "https://localhost:8080/"
        },
        "id": "0GLvnnw_10ah",
        "outputId": "b3240f35-dd69-4bef-fd93-47a288ac6a05"
      },
      "execution_count": 42,
      "outputs": [
        {
          "output_type": "stream",
          "name": "stdout",
          "text": [
            "Element-wise Multiplication:\n",
            " [[ 5 12]\n",
            " [21 32]]\n"
          ]
        }
      ]
    },
    {
      "cell_type": "markdown",
      "source": [
        "12.  Use Pandas to load a CSV file and display its first 5 rows."
      ],
      "metadata": {
        "id": "Jxvzbvjs2Fjz"
      }
    },
    {
      "cell_type": "markdown",
      "source": [
        "🔹 Step 1: Import Pandas & Load the CSV File"
      ],
      "metadata": {
        "id": "OzbeZjyW2P9C"
      }
    },
    {
      "cell_type": "markdown",
      "source": [
        "import pandas as pd\n",
        "\n",
        "# Load CSV file (replace 'data.csv' with your actual file path)\n",
        "df = pd.read_csv(\"data.csv\")\n",
        "\n",
        "# Display the first 5 rows\n",
        "print(df.head())\n",
        "\n",
        "\n",
        "🔹 pd.read_csv(\"data.csv\") → Loads the CSV file into a Pandas DataFrame.\n",
        "\n",
        "🔹 df.head() → Displays the first 5 rows (default)\n",
        "\n",
        "🔹 Step 2: Check If the File Loaded Correctly\n",
        "\n",
        "print(df.info())  # Shows column names, non-null values, and data types\n",
        "\n",
        "print(df.shape)   # Shows (rows, columns) of the DataFrame\n",
        "\n",
        "🔹 Useful for checking missing values and data structure.\n",
        "\n",
        "🔹 Step 3: Customize How Many Rows to Show\n",
        "\n",
        "print(df.head(10))  # Displays the first 10 rows\n",
        "\n",
        "print(df.tail(5))   # Displays the last 5 rows\n",
        "🔹 Use .tail(n) to display the last n rows.\n",
        "\n",
        "13. Create a 3D scatter plot using Plotly.\n",
        "\n",
        "   - 🔹 Step 1: Import Required Libraries"
      ],
      "metadata": {
        "id": "i7zuGzKV2WMq"
      }
    },
    {
      "cell_type": "code",
      "source": [
        "import plotly.express as px\n",
        "import pandas as pd\n",
        "import numpy as np\n",
        "\n",
        "# Generate sample data\n",
        "np.random.seed(42)\n",
        "df = pd.DataFrame({\n",
        "    \"X\": np.random.randint(1, 100, 50),\n",
        "    \"Y\": np.random.randint(1, 100, 50),\n",
        "    \"Z\": np.random.randint(1, 100, 50),\n",
        "    \"Category\": np.random.choice([\"A\", \"B\", \"C\"], 50)  # Categorical variable for color\n",
        "})\n",
        "\n",
        "# Create 3D scatter plot\n",
        "fig = px.scatter_3d(df, x=\"X\", y=\"Y\", z=\"Z\", color=\"Category\", size_max=10, title=\"3D Scatter Plot\")\n",
        "\n",
        "# Show plot\n",
        "fig.show()\n"
      ],
      "metadata": {
        "colab": {
          "base_uri": "https://localhost:8080/",
          "height": 542
        },
        "id": "xd-U-3VO2vjq",
        "outputId": "62a75810-1408-4ef6-81ee-fe38531c9cc9"
      },
      "execution_count": 44,
      "outputs": [
        {
          "output_type": "display_data",
          "data": {
            "text/html": [
              "<html>\n",
              "<head><meta charset=\"utf-8\" /></head>\n",
              "<body>\n",
              "    <div>            <script src=\"https://cdnjs.cloudflare.com/ajax/libs/mathjax/2.7.5/MathJax.js?config=TeX-AMS-MML_SVG\"></script><script type=\"text/javascript\">if (window.MathJax && window.MathJax.Hub && window.MathJax.Hub.Config) {window.MathJax.Hub.Config({SVG: {font: \"STIX-Web\"}});}</script>                <script type=\"text/javascript\">window.PlotlyConfig = {MathJaxConfig: 'local'};</script>\n",
              "        <script charset=\"utf-8\" src=\"https://cdn.plot.ly/plotly-2.35.2.min.js\"></script>                <div id=\"011ec095-d39f-4029-8c9c-322e0b824095\" class=\"plotly-graph-div\" style=\"height:525px; width:100%;\"></div>            <script type=\"text/javascript\">                                    window.PLOTLYENV=window.PLOTLYENV || {};                                    if (document.getElementById(\"011ec095-d39f-4029-8c9c-322e0b824095\")) {                    Plotly.newPlot(                        \"011ec095-d39f-4029-8c9c-322e0b824095\",                        [{\"hovertemplate\":\"Category=C\\u003cbr\\u003eX=%{x}\\u003cbr\\u003eY=%{y}\\u003cbr\\u003eZ=%{z}\\u003cextra\\u003e\\u003c\\u002fextra\\u003e\",\"legendgroup\":\"C\",\"marker\":{\"color\":\"#636efa\",\"symbol\":\"circle\"},\"mode\":\"markers\",\"name\":\"C\",\"scene\":\"scene\",\"showlegend\":true,\"x\":[52,93,21,83,87,3,22,2,88,2,64,60,92,80,62,55,21,73,18],\"y\":[4,89,90,53,2,44,8,35,78,50,4,2,74,14,48,62,53,24,89],\"z\":[60,41,65,89,71,88,63,81,8,33,5,41,88,99,86,47,90,14,9],\"type\":\"scatter3d\"},{\"hovertemplate\":\"Category=B\\u003cbr\\u003eX=%{x}\\u003cbr\\u003eY=%{y}\\u003cbr\\u003eZ=%{z}\\u003cextra\\u003e\\u003c\\u002fextra\\u003e\",\"legendgroup\":\"B\",\"marker\":{\"color\":\"#EF553B\",\"symbol\":\"circle\"},\"mode\":\"markers\",\"name\":\"B\",\"scene\":\"scene\",\"showlegend\":true,\"x\":[15,72,88,21,33,76,22,91,59,42,60,62,64,39],\"y\":[60,14,60,6,54,4,93,90,44,34,62,15,40,26],\"z\":[29,15,1,28,7,73,12,48,23,62,37,91,78,27],\"type\":\"scatter3d\"},{\"hovertemplate\":\"Category=A\\u003cbr\\u003eX=%{x}\\u003cbr\\u003eY=%{y}\\u003cbr\\u003eZ=%{z}\\u003cextra\\u003e\\u003c\\u002fextra\\u003e\",\"legendgroup\":\"A\",\"marker\":{\"color\":\"#00cc96\",\"symbol\":\"circle\"},\"mode\":\"markers\",\"name\":\"A\",\"scene\":\"scene\",\"showlegend\":true,\"x\":[61,75,75,24,53,30,38,58,89,49,15,47,62,51,3,51,7],\"y\":[9,84,92,71,47,81,36,54,63,18,95,72,78,87,85,80,82],\"z\":[45,9,88,8,11,35,35,72,34,33,44,35,65,99,3,1,5],\"type\":\"scatter3d\"}],                        {\"template\":{\"data\":{\"histogram2dcontour\":[{\"type\":\"histogram2dcontour\",\"colorbar\":{\"outlinewidth\":0,\"ticks\":\"\"},\"colorscale\":[[0.0,\"#0d0887\"],[0.1111111111111111,\"#46039f\"],[0.2222222222222222,\"#7201a8\"],[0.3333333333333333,\"#9c179e\"],[0.4444444444444444,\"#bd3786\"],[0.5555555555555556,\"#d8576b\"],[0.6666666666666666,\"#ed7953\"],[0.7777777777777778,\"#fb9f3a\"],[0.8888888888888888,\"#fdca26\"],[1.0,\"#f0f921\"]]}],\"choropleth\":[{\"type\":\"choropleth\",\"colorbar\":{\"outlinewidth\":0,\"ticks\":\"\"}}],\"histogram2d\":[{\"type\":\"histogram2d\",\"colorbar\":{\"outlinewidth\":0,\"ticks\":\"\"},\"colorscale\":[[0.0,\"#0d0887\"],[0.1111111111111111,\"#46039f\"],[0.2222222222222222,\"#7201a8\"],[0.3333333333333333,\"#9c179e\"],[0.4444444444444444,\"#bd3786\"],[0.5555555555555556,\"#d8576b\"],[0.6666666666666666,\"#ed7953\"],[0.7777777777777778,\"#fb9f3a\"],[0.8888888888888888,\"#fdca26\"],[1.0,\"#f0f921\"]]}],\"heatmap\":[{\"type\":\"heatmap\",\"colorbar\":{\"outlinewidth\":0,\"ticks\":\"\"},\"colorscale\":[[0.0,\"#0d0887\"],[0.1111111111111111,\"#46039f\"],[0.2222222222222222,\"#7201a8\"],[0.3333333333333333,\"#9c179e\"],[0.4444444444444444,\"#bd3786\"],[0.5555555555555556,\"#d8576b\"],[0.6666666666666666,\"#ed7953\"],[0.7777777777777778,\"#fb9f3a\"],[0.8888888888888888,\"#fdca26\"],[1.0,\"#f0f921\"]]}],\"heatmapgl\":[{\"type\":\"heatmapgl\",\"colorbar\":{\"outlinewidth\":0,\"ticks\":\"\"},\"colorscale\":[[0.0,\"#0d0887\"],[0.1111111111111111,\"#46039f\"],[0.2222222222222222,\"#7201a8\"],[0.3333333333333333,\"#9c179e\"],[0.4444444444444444,\"#bd3786\"],[0.5555555555555556,\"#d8576b\"],[0.6666666666666666,\"#ed7953\"],[0.7777777777777778,\"#fb9f3a\"],[0.8888888888888888,\"#fdca26\"],[1.0,\"#f0f921\"]]}],\"contourcarpet\":[{\"type\":\"contourcarpet\",\"colorbar\":{\"outlinewidth\":0,\"ticks\":\"\"}}],\"contour\":[{\"type\":\"contour\",\"colorbar\":{\"outlinewidth\":0,\"ticks\":\"\"},\"colorscale\":[[0.0,\"#0d0887\"],[0.1111111111111111,\"#46039f\"],[0.2222222222222222,\"#7201a8\"],[0.3333333333333333,\"#9c179e\"],[0.4444444444444444,\"#bd3786\"],[0.5555555555555556,\"#d8576b\"],[0.6666666666666666,\"#ed7953\"],[0.7777777777777778,\"#fb9f3a\"],[0.8888888888888888,\"#fdca26\"],[1.0,\"#f0f921\"]]}],\"surface\":[{\"type\":\"surface\",\"colorbar\":{\"outlinewidth\":0,\"ticks\":\"\"},\"colorscale\":[[0.0,\"#0d0887\"],[0.1111111111111111,\"#46039f\"],[0.2222222222222222,\"#7201a8\"],[0.3333333333333333,\"#9c179e\"],[0.4444444444444444,\"#bd3786\"],[0.5555555555555556,\"#d8576b\"],[0.6666666666666666,\"#ed7953\"],[0.7777777777777778,\"#fb9f3a\"],[0.8888888888888888,\"#fdca26\"],[1.0,\"#f0f921\"]]}],\"mesh3d\":[{\"type\":\"mesh3d\",\"colorbar\":{\"outlinewidth\":0,\"ticks\":\"\"}}],\"scatter\":[{\"fillpattern\":{\"fillmode\":\"overlay\",\"size\":10,\"solidity\":0.2},\"type\":\"scatter\"}],\"parcoords\":[{\"type\":\"parcoords\",\"line\":{\"colorbar\":{\"outlinewidth\":0,\"ticks\":\"\"}}}],\"scatterpolargl\":[{\"type\":\"scatterpolargl\",\"marker\":{\"colorbar\":{\"outlinewidth\":0,\"ticks\":\"\"}}}],\"bar\":[{\"error_x\":{\"color\":\"#2a3f5f\"},\"error_y\":{\"color\":\"#2a3f5f\"},\"marker\":{\"line\":{\"color\":\"#E5ECF6\",\"width\":0.5},\"pattern\":{\"fillmode\":\"overlay\",\"size\":10,\"solidity\":0.2}},\"type\":\"bar\"}],\"scattergeo\":[{\"type\":\"scattergeo\",\"marker\":{\"colorbar\":{\"outlinewidth\":0,\"ticks\":\"\"}}}],\"scatterpolar\":[{\"type\":\"scatterpolar\",\"marker\":{\"colorbar\":{\"outlinewidth\":0,\"ticks\":\"\"}}}],\"histogram\":[{\"marker\":{\"pattern\":{\"fillmode\":\"overlay\",\"size\":10,\"solidity\":0.2}},\"type\":\"histogram\"}],\"scattergl\":[{\"type\":\"scattergl\",\"marker\":{\"colorbar\":{\"outlinewidth\":0,\"ticks\":\"\"}}}],\"scatter3d\":[{\"type\":\"scatter3d\",\"line\":{\"colorbar\":{\"outlinewidth\":0,\"ticks\":\"\"}},\"marker\":{\"colorbar\":{\"outlinewidth\":0,\"ticks\":\"\"}}}],\"scattermapbox\":[{\"type\":\"scattermapbox\",\"marker\":{\"colorbar\":{\"outlinewidth\":0,\"ticks\":\"\"}}}],\"scatterternary\":[{\"type\":\"scatterternary\",\"marker\":{\"colorbar\":{\"outlinewidth\":0,\"ticks\":\"\"}}}],\"scattercarpet\":[{\"type\":\"scattercarpet\",\"marker\":{\"colorbar\":{\"outlinewidth\":0,\"ticks\":\"\"}}}],\"carpet\":[{\"aaxis\":{\"endlinecolor\":\"#2a3f5f\",\"gridcolor\":\"white\",\"linecolor\":\"white\",\"minorgridcolor\":\"white\",\"startlinecolor\":\"#2a3f5f\"},\"baxis\":{\"endlinecolor\":\"#2a3f5f\",\"gridcolor\":\"white\",\"linecolor\":\"white\",\"minorgridcolor\":\"white\",\"startlinecolor\":\"#2a3f5f\"},\"type\":\"carpet\"}],\"table\":[{\"cells\":{\"fill\":{\"color\":\"#EBF0F8\"},\"line\":{\"color\":\"white\"}},\"header\":{\"fill\":{\"color\":\"#C8D4E3\"},\"line\":{\"color\":\"white\"}},\"type\":\"table\"}],\"barpolar\":[{\"marker\":{\"line\":{\"color\":\"#E5ECF6\",\"width\":0.5},\"pattern\":{\"fillmode\":\"overlay\",\"size\":10,\"solidity\":0.2}},\"type\":\"barpolar\"}],\"pie\":[{\"automargin\":true,\"type\":\"pie\"}]},\"layout\":{\"autotypenumbers\":\"strict\",\"colorway\":[\"#636efa\",\"#EF553B\",\"#00cc96\",\"#ab63fa\",\"#FFA15A\",\"#19d3f3\",\"#FF6692\",\"#B6E880\",\"#FF97FF\",\"#FECB52\"],\"font\":{\"color\":\"#2a3f5f\"},\"hovermode\":\"closest\",\"hoverlabel\":{\"align\":\"left\"},\"paper_bgcolor\":\"white\",\"plot_bgcolor\":\"#E5ECF6\",\"polar\":{\"bgcolor\":\"#E5ECF6\",\"angularaxis\":{\"gridcolor\":\"white\",\"linecolor\":\"white\",\"ticks\":\"\"},\"radialaxis\":{\"gridcolor\":\"white\",\"linecolor\":\"white\",\"ticks\":\"\"}},\"ternary\":{\"bgcolor\":\"#E5ECF6\",\"aaxis\":{\"gridcolor\":\"white\",\"linecolor\":\"white\",\"ticks\":\"\"},\"baxis\":{\"gridcolor\":\"white\",\"linecolor\":\"white\",\"ticks\":\"\"},\"caxis\":{\"gridcolor\":\"white\",\"linecolor\":\"white\",\"ticks\":\"\"}},\"coloraxis\":{\"colorbar\":{\"outlinewidth\":0,\"ticks\":\"\"}},\"colorscale\":{\"sequential\":[[0.0,\"#0d0887\"],[0.1111111111111111,\"#46039f\"],[0.2222222222222222,\"#7201a8\"],[0.3333333333333333,\"#9c179e\"],[0.4444444444444444,\"#bd3786\"],[0.5555555555555556,\"#d8576b\"],[0.6666666666666666,\"#ed7953\"],[0.7777777777777778,\"#fb9f3a\"],[0.8888888888888888,\"#fdca26\"],[1.0,\"#f0f921\"]],\"sequentialminus\":[[0.0,\"#0d0887\"],[0.1111111111111111,\"#46039f\"],[0.2222222222222222,\"#7201a8\"],[0.3333333333333333,\"#9c179e\"],[0.4444444444444444,\"#bd3786\"],[0.5555555555555556,\"#d8576b\"],[0.6666666666666666,\"#ed7953\"],[0.7777777777777778,\"#fb9f3a\"],[0.8888888888888888,\"#fdca26\"],[1.0,\"#f0f921\"]],\"diverging\":[[0,\"#8e0152\"],[0.1,\"#c51b7d\"],[0.2,\"#de77ae\"],[0.3,\"#f1b6da\"],[0.4,\"#fde0ef\"],[0.5,\"#f7f7f7\"],[0.6,\"#e6f5d0\"],[0.7,\"#b8e186\"],[0.8,\"#7fbc41\"],[0.9,\"#4d9221\"],[1,\"#276419\"]]},\"xaxis\":{\"gridcolor\":\"white\",\"linecolor\":\"white\",\"ticks\":\"\",\"title\":{\"standoff\":15},\"zerolinecolor\":\"white\",\"automargin\":true,\"zerolinewidth\":2},\"yaxis\":{\"gridcolor\":\"white\",\"linecolor\":\"white\",\"ticks\":\"\",\"title\":{\"standoff\":15},\"zerolinecolor\":\"white\",\"automargin\":true,\"zerolinewidth\":2},\"scene\":{\"xaxis\":{\"backgroundcolor\":\"#E5ECF6\",\"gridcolor\":\"white\",\"linecolor\":\"white\",\"showbackground\":true,\"ticks\":\"\",\"zerolinecolor\":\"white\",\"gridwidth\":2},\"yaxis\":{\"backgroundcolor\":\"#E5ECF6\",\"gridcolor\":\"white\",\"linecolor\":\"white\",\"showbackground\":true,\"ticks\":\"\",\"zerolinecolor\":\"white\",\"gridwidth\":2},\"zaxis\":{\"backgroundcolor\":\"#E5ECF6\",\"gridcolor\":\"white\",\"linecolor\":\"white\",\"showbackground\":true,\"ticks\":\"\",\"zerolinecolor\":\"white\",\"gridwidth\":2}},\"shapedefaults\":{\"line\":{\"color\":\"#2a3f5f\"}},\"annotationdefaults\":{\"arrowcolor\":\"#2a3f5f\",\"arrowhead\":0,\"arrowwidth\":1},\"geo\":{\"bgcolor\":\"white\",\"landcolor\":\"#E5ECF6\",\"subunitcolor\":\"white\",\"showland\":true,\"showlakes\":true,\"lakecolor\":\"white\"},\"title\":{\"x\":0.05},\"mapbox\":{\"style\":\"light\"}}},\"scene\":{\"domain\":{\"x\":[0.0,1.0],\"y\":[0.0,1.0]},\"xaxis\":{\"title\":{\"text\":\"X\"}},\"yaxis\":{\"title\":{\"text\":\"Y\"}},\"zaxis\":{\"title\":{\"text\":\"Z\"}}},\"legend\":{\"title\":{\"text\":\"Category\"},\"tracegroupgap\":0},\"title\":{\"text\":\"3D Scatter Plot\"}},                        {\"responsive\": true}                    ).then(function(){\n",
              "                            \n",
              "var gd = document.getElementById('011ec095-d39f-4029-8c9c-322e0b824095');\n",
              "var x = new MutationObserver(function (mutations, observer) {{\n",
              "        var display = window.getComputedStyle(gd).display;\n",
              "        if (!display || display === 'none') {{\n",
              "            console.log([gd, 'removed!']);\n",
              "            Plotly.purge(gd);\n",
              "            observer.disconnect();\n",
              "        }}\n",
              "}});\n",
              "\n",
              "// Listen for the removal of the full notebook cells\n",
              "var notebookContainer = gd.closest('#notebook-container');\n",
              "if (notebookContainer) {{\n",
              "    x.observe(notebookContainer, {childList: true});\n",
              "}}\n",
              "\n",
              "// Listen for the clearing of the current output cell\n",
              "var outputEl = gd.closest('.output');\n",
              "if (outputEl) {{\n",
              "    x.observe(outputEl, {childList: true});\n",
              "}}\n",
              "\n",
              "                        })                };                            </script>        </div>\n",
              "</body>\n",
              "</html>"
            ]
          },
          "metadata": {}
        }
      ]
    },
    {
      "cell_type": "markdown",
      "source": [
        "🔹 Explanation\n",
        "\n",
        "✅ px.scatter_3d() → Creates an interactive 3D scatter plot.\n",
        "\n",
        "✅ x=\"X\", y=\"Y\", z=\"Z\" → Specifies the three axes.\n",
        "\n",
        "✅ color=\"Category\" → Assigns different colors based on a categorical column.\n",
        "\n",
        "✅ size_max=10 → Adjusts marker sizes.\n",
        "\n",
        "✅ fig.show() → Displays the interactive plot."
      ],
      "metadata": {
        "id": "_Y8jq9l42xi-"
      }
    },
    {
      "cell_type": "markdown",
      "source": [],
      "metadata": {
        "id": "g7vjKgWs0xpK"
      }
    },
    {
      "cell_type": "markdown",
      "source": [],
      "metadata": {
        "id": "EQyh7W3oQT1P"
      }
    }
  ]
}